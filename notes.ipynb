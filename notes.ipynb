{
 "cells": [
  {
   "cell_type": "markdown",
   "metadata": {},
   "source": [
    "### SIGNUP FRONTEND : \n",
    "\n",
    "1. fill the details \n",
    "2. click the Connect Wallet button \n",
    "\n",
    "2.1 connect to the wallet. VIA METAMASK. \n",
    "\n",
    "2.2 make the \"Connect Wallet\" -> \"CONNECTED!\"\n",
    "\n",
    "\n",
    "3. Click OTP verification \n",
    "\n",
    "3.1 verify the fields \n",
    "\n",
    "3.2 and redirect to the /verify-otp\n",
    "\n",
    "\n",
    "4. get and chek the OTP with the backend \n",
    "5. Enter the application..."
   ]
  },
  {
   "cell_type": "markdown",
   "metadata": {},
   "source": [
    "## complete the OTP verification via the frontend....\n",
    " \n",
    "#### some   kind Of ERROR!!!\n",
    "\n",
    "not able to pass the email in the ZUSTAND... \n",
    "check the entire thing \n",
    "\n",
    "this is the main arthada....\n",
    "\n",
    "..if THIS COMPLETED.. \n",
    "\n",
    "--- next remains the LOGIN, LOGOUT => ( should be easy ) \n",
    "\n",
    "then just bunch of fucking get requests, and then display in the frontend....\n",
    "\n",
    "\n",
    "\n",
    "FINALLY THE CLAIMS WILL BE REMAINING...."
   ]
  },
  {
   "cell_type": "markdown",
   "metadata": {},
   "source": [
    "## **Temporarily removed the OTP Functionality...** \n",
    "--- FIX ERROR THEN DO THIS..... "
   ]
  },
  {
   "cell_type": "markdown",
   "metadata": {},
   "source": [
    "## I can DO THIS :-> "
   ]
  },
  {
   "cell_type": "markdown",
   "metadata": {},
   "source": [
    "* rn I am at \n",
    "\n",
    "1. getProfile where I need to fetch the investment from the backend for this to work or else we are not going back .....\n",
    "2. 4 in the morning signing off .... "
   ]
  },
  {
   "cell_type": "markdown",
   "metadata": {},
   "source": []
  }
 ],
 "metadata": {
  "kernelspec": {
   "display_name": "Python 3",
   "language": "python",
   "name": "python3"
  },
  "language_info": {
   "codemirror_mode": {
    "name": "ipython",
    "version": 3
   },
   "file_extension": ".py",
   "mimetype": "text/x-python",
   "name": "python",
   "nbconvert_exporter": "python",
   "pygments_lexer": "ipython3",
   "version": "3.12.2"
  }
 },
 "nbformat": 4,
 "nbformat_minor": 2
}
